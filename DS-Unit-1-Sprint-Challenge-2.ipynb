{
  "nbformat": 4,
  "nbformat_minor": 0,
  "metadata": {
    "colab": {
      "name": "DS_Unit_1_Sprint_Challenge_2_Data_Wrangling.ipynb",
      "version": "0.3.2",
      "provenance": [],
      "collapsed_sections": [],
      "include_colab_link": true
    },
    "kernelspec": {
      "name": "python3",
      "display_name": "Python 3"
    }
  },
  "cells": [
    {
      "cell_type": "markdown",
      "metadata": {
        "id": "view-in-github",
        "colab_type": "text"
      },
      "source": [
        "<a href=\"https://colab.research.google.com/github/MrT3313/DS-Unit-1-Sprint-2-Data-Wrangling-and-Storytelling/blob/master/DS-Unit-1-Sprint-Challenge-2.ipynb\" target=\"_parent\"><img src=\"https://colab.research.google.com/assets/colab-badge.svg\" alt=\"Open In Colab\"/></a>"
      ]
    },
    {
      "cell_type": "markdown",
      "metadata": {
        "id": "4yMHi_PX9hEz",
        "colab_type": "text"
      },
      "source": [
        "# Data Science Unit 1 Sprint Challenge 2\n",
        "\n",
        "## Data Wrangling\n",
        "\n",
        "In this Sprint Challenge you will use data from [Gapminder](https://www.gapminder.org/about-gapminder/), a Swedish non-profit co-founded by Hans Rosling. \"Gapminder produces free teaching resources making the world understandable based on reliable statistics.\"\n",
        "- [Cell phones (total), by country and year](https://raw.githubusercontent.com/open-numbers/ddf--gapminder--systema_globalis/master/ddf--datapoints--cell_phones_total--by--geo--time.csv)\n",
        "- [Population (total), by country and year](https://raw.githubusercontent.com/open-numbers/ddf--gapminder--systema_globalis/master/ddf--datapoints--population_total--by--geo--time.csv)\n",
        "- [Geo country codes](https://github.com/open-numbers/ddf--gapminder--systema_globalis/blob/master/ddf--entities--geo--country.csv)\n",
        "\n",
        "These two links have everything you need to successfully complete the Sprint Challenge!\n",
        "- [Pandas documentation: Working with Text Data](https://pandas.pydata.org/pandas-docs/stable/text.html]) (one question)\n",
        "- [Pandas Cheat Sheet](https://github.com/pandas-dev/pandas/blob/master/doc/cheatsheet/Pandas_Cheat_Sheet.pdf) (everything else)"
      ]
    },
    {
      "cell_type": "markdown",
      "metadata": {
        "id": "wWEU2GemX68A",
        "colab_type": "text"
      },
      "source": [
        "## Part 0. Load data\n",
        "\n",
        "You don't need to add or change anything here. Just run this cell and it loads the data for you, into three dataframes."
      ]
    },
    {
      "cell_type": "code",
      "metadata": {
        "id": "bxKtSi5sRQOl",
        "colab_type": "code",
        "colab": {}
      },
      "source": [
        "import pandas as pd\n",
        "\n",
        "# ADDED\n",
        "import matplotlib.pyplot as plt\n",
        "%matplotlib inline\n",
        "\n",
        "cell_phones = pd.read_csv('https://raw.githubusercontent.com/open-numbers/ddf--gapminder--systema_globalis/master/ddf--datapoints--cell_phones_total--by--geo--time.csv')\n",
        "\n",
        "population = pd.read_csv('https://raw.githubusercontent.com/open-numbers/ddf--gapminder--systema_globalis/master/ddf--datapoints--population_total--by--geo--time.csv')\n",
        "\n",
        "geo_country_codes = (pd.read_csv('https://raw.githubusercontent.com/open-numbers/ddf--gapminder--systema_globalis/master/ddf--entities--geo--country.csv')\n",
        "                       .rename(columns={'country': 'geo', 'name': 'country'}))"
      ],
      "execution_count": 0,
      "outputs": []
    },
    {
      "cell_type": "markdown",
      "metadata": {
        "id": "AZmVTeCsX9RC",
        "colab_type": "text"
      },
      "source": [
        "## Part 1. Join data"
      ]
    },
    {
      "cell_type": "markdown",
      "metadata": {
        "id": "GLzX58u4SfEy",
        "colab_type": "text"
      },
      "source": [
        "First, join the `cell_phones` and `population` dataframes (with an inner join on `geo` and `time`).\n",
        "\n",
        "The resulting dataframe's shape should be: (8590, 4)"
      ]
    },
    {
      "cell_type": "code",
      "metadata": {
        "id": "GVV7Hnj4SXBa",
        "colab_type": "code",
        "colab": {
          "base_uri": "https://localhost:8080/",
          "height": 221
        },
        "outputId": "30cc5a84-618d-4eff-f415-9b3215f46060"
      },
      "source": [
        "# INITIAL DATA EXPLORATION #\n",
        "print(cell_phones.shape)\n",
        "cell_phones.head()"
      ],
      "execution_count": 21,
      "outputs": [
        {
          "output_type": "stream",
          "text": [
            "(9215, 3)\n"
          ],
          "name": "stdout"
        },
        {
          "output_type": "execute_result",
          "data": {
            "text/html": [
              "<div>\n",
              "<style scoped>\n",
              "    .dataframe tbody tr th:only-of-type {\n",
              "        vertical-align: middle;\n",
              "    }\n",
              "\n",
              "    .dataframe tbody tr th {\n",
              "        vertical-align: top;\n",
              "    }\n",
              "\n",
              "    .dataframe thead th {\n",
              "        text-align: right;\n",
              "    }\n",
              "</style>\n",
              "<table border=\"1\" class=\"dataframe\">\n",
              "  <thead>\n",
              "    <tr style=\"text-align: right;\">\n",
              "      <th></th>\n",
              "      <th>geo</th>\n",
              "      <th>time</th>\n",
              "      <th>cell_phones_total</th>\n",
              "    </tr>\n",
              "  </thead>\n",
              "  <tbody>\n",
              "    <tr>\n",
              "      <th>0</th>\n",
              "      <td>abw</td>\n",
              "      <td>1960</td>\n",
              "      <td>0.0</td>\n",
              "    </tr>\n",
              "    <tr>\n",
              "      <th>1</th>\n",
              "      <td>abw</td>\n",
              "      <td>1965</td>\n",
              "      <td>0.0</td>\n",
              "    </tr>\n",
              "    <tr>\n",
              "      <th>2</th>\n",
              "      <td>abw</td>\n",
              "      <td>1970</td>\n",
              "      <td>0.0</td>\n",
              "    </tr>\n",
              "    <tr>\n",
              "      <th>3</th>\n",
              "      <td>abw</td>\n",
              "      <td>1975</td>\n",
              "      <td>0.0</td>\n",
              "    </tr>\n",
              "    <tr>\n",
              "      <th>4</th>\n",
              "      <td>abw</td>\n",
              "      <td>1976</td>\n",
              "      <td>0.0</td>\n",
              "    </tr>\n",
              "  </tbody>\n",
              "</table>\n",
              "</div>"
            ],
            "text/plain": [
              "   geo  time  cell_phones_total\n",
              "0  abw  1960                0.0\n",
              "1  abw  1965                0.0\n",
              "2  abw  1970                0.0\n",
              "3  abw  1975                0.0\n",
              "4  abw  1976                0.0"
            ]
          },
          "metadata": {
            "tags": []
          },
          "execution_count": 21
        }
      ]
    },
    {
      "cell_type": "code",
      "metadata": {
        "id": "ZGjNC65W1a2d",
        "colab_type": "code",
        "colab": {
          "base_uri": "https://localhost:8080/",
          "height": 221
        },
        "outputId": "9899cbaf-8b90-4d21-f543-61f24766e75e"
      },
      "source": [
        "# INITIAL DATA EXPLORATION #\n",
        "print(population.shape)\n",
        "population.head()"
      ],
      "execution_count": 3,
      "outputs": [
        {
          "output_type": "stream",
          "text": [
            "(59297, 3)\n"
          ],
          "name": "stdout"
        },
        {
          "output_type": "execute_result",
          "data": {
            "text/html": [
              "<div>\n",
              "<style scoped>\n",
              "    .dataframe tbody tr th:only-of-type {\n",
              "        vertical-align: middle;\n",
              "    }\n",
              "\n",
              "    .dataframe tbody tr th {\n",
              "        vertical-align: top;\n",
              "    }\n",
              "\n",
              "    .dataframe thead th {\n",
              "        text-align: right;\n",
              "    }\n",
              "</style>\n",
              "<table border=\"1\" class=\"dataframe\">\n",
              "  <thead>\n",
              "    <tr style=\"text-align: right;\">\n",
              "      <th></th>\n",
              "      <th>geo</th>\n",
              "      <th>time</th>\n",
              "      <th>population_total</th>\n",
              "    </tr>\n",
              "  </thead>\n",
              "  <tbody>\n",
              "    <tr>\n",
              "      <th>0</th>\n",
              "      <td>afg</td>\n",
              "      <td>1800</td>\n",
              "      <td>3280000</td>\n",
              "    </tr>\n",
              "    <tr>\n",
              "      <th>1</th>\n",
              "      <td>afg</td>\n",
              "      <td>1801</td>\n",
              "      <td>3280000</td>\n",
              "    </tr>\n",
              "    <tr>\n",
              "      <th>2</th>\n",
              "      <td>afg</td>\n",
              "      <td>1802</td>\n",
              "      <td>3280000</td>\n",
              "    </tr>\n",
              "    <tr>\n",
              "      <th>3</th>\n",
              "      <td>afg</td>\n",
              "      <td>1803</td>\n",
              "      <td>3280000</td>\n",
              "    </tr>\n",
              "    <tr>\n",
              "      <th>4</th>\n",
              "      <td>afg</td>\n",
              "      <td>1804</td>\n",
              "      <td>3280000</td>\n",
              "    </tr>\n",
              "  </tbody>\n",
              "</table>\n",
              "</div>"
            ],
            "text/plain": [
              "   geo  time  population_total\n",
              "0  afg  1800           3280000\n",
              "1  afg  1801           3280000\n",
              "2  afg  1802           3280000\n",
              "3  afg  1803           3280000\n",
              "4  afg  1804           3280000"
            ]
          },
          "metadata": {
            "tags": []
          },
          "execution_count": 3
        }
      ]
    },
    {
      "cell_type": "markdown",
      "metadata": {
        "id": "LGtFJ3N21n7B",
        "colab_type": "text"
      },
      "source": [
        "## Part 1 Answer - V1"
      ]
    },
    {
      "cell_type": "code",
      "metadata": {
        "id": "VsaWwnQm1msE",
        "colab_type": "code",
        "colab": {
          "base_uri": "https://localhost:8080/",
          "height": 221
        },
        "outputId": "0a9c3dbf-3a2b-4960-8d89-761214dafeca"
      },
      "source": [
        "# Resulting Shape Should = (8590, 4)\n",
        "\n",
        "df = pd.merge(cell_phones, population)\n",
        "print(df.shape)\n",
        "df.head()"
      ],
      "execution_count": 4,
      "outputs": [
        {
          "output_type": "stream",
          "text": [
            "(8590, 4)\n"
          ],
          "name": "stdout"
        },
        {
          "output_type": "execute_result",
          "data": {
            "text/html": [
              "<div>\n",
              "<style scoped>\n",
              "    .dataframe tbody tr th:only-of-type {\n",
              "        vertical-align: middle;\n",
              "    }\n",
              "\n",
              "    .dataframe tbody tr th {\n",
              "        vertical-align: top;\n",
              "    }\n",
              "\n",
              "    .dataframe thead th {\n",
              "        text-align: right;\n",
              "    }\n",
              "</style>\n",
              "<table border=\"1\" class=\"dataframe\">\n",
              "  <thead>\n",
              "    <tr style=\"text-align: right;\">\n",
              "      <th></th>\n",
              "      <th>geo</th>\n",
              "      <th>time</th>\n",
              "      <th>cell_phones_total</th>\n",
              "      <th>population_total</th>\n",
              "    </tr>\n",
              "  </thead>\n",
              "  <tbody>\n",
              "    <tr>\n",
              "      <th>0</th>\n",
              "      <td>afg</td>\n",
              "      <td>1960</td>\n",
              "      <td>0.0</td>\n",
              "      <td>8996351</td>\n",
              "    </tr>\n",
              "    <tr>\n",
              "      <th>1</th>\n",
              "      <td>afg</td>\n",
              "      <td>1965</td>\n",
              "      <td>0.0</td>\n",
              "      <td>9938414</td>\n",
              "    </tr>\n",
              "    <tr>\n",
              "      <th>2</th>\n",
              "      <td>afg</td>\n",
              "      <td>1970</td>\n",
              "      <td>0.0</td>\n",
              "      <td>11126123</td>\n",
              "    </tr>\n",
              "    <tr>\n",
              "      <th>3</th>\n",
              "      <td>afg</td>\n",
              "      <td>1975</td>\n",
              "      <td>0.0</td>\n",
              "      <td>12590286</td>\n",
              "    </tr>\n",
              "    <tr>\n",
              "      <th>4</th>\n",
              "      <td>afg</td>\n",
              "      <td>1976</td>\n",
              "      <td>0.0</td>\n",
              "      <td>12840299</td>\n",
              "    </tr>\n",
              "  </tbody>\n",
              "</table>\n",
              "</div>"
            ],
            "text/plain": [
              "   geo  time  cell_phones_total  population_total\n",
              "0  afg  1960                0.0           8996351\n",
              "1  afg  1965                0.0           9938414\n",
              "2  afg  1970                0.0          11126123\n",
              "3  afg  1975                0.0          12590286\n",
              "4  afg  1976                0.0          12840299"
            ]
          },
          "metadata": {
            "tags": []
          },
          "execution_count": 4
        }
      ]
    },
    {
      "cell_type": "markdown",
      "metadata": {
        "id": "xsXpDbwwW241",
        "colab_type": "text"
      },
      "source": [
        "Then, select the `geo` and `country` columns from the `geo_country_codes` dataframe, and join with your population and cell phone data.\n",
        "\n",
        "The resulting dataframe's shape should be: (8590, 5)"
      ]
    },
    {
      "cell_type": "code",
      "metadata": {
        "id": "Q2LaZta_W2CE",
        "colab_type": "code",
        "colab": {
          "base_uri": "https://localhost:8080/",
          "height": 221
        },
        "outputId": "0397cf54-89cc-415e-bc2b-af291b919574"
      },
      "source": [
        "geo_codes_columns = ['geo', 'country']\n",
        "\n",
        "final = pd.merge(df, geo_country_codes[geo_codes_columns], how='inner', on='geo')\n",
        "print(final.shape)\n",
        "final.head()"
      ],
      "execution_count": 5,
      "outputs": [
        {
          "output_type": "stream",
          "text": [
            "(8590, 5)\n"
          ],
          "name": "stdout"
        },
        {
          "output_type": "execute_result",
          "data": {
            "text/html": [
              "<div>\n",
              "<style scoped>\n",
              "    .dataframe tbody tr th:only-of-type {\n",
              "        vertical-align: middle;\n",
              "    }\n",
              "\n",
              "    .dataframe tbody tr th {\n",
              "        vertical-align: top;\n",
              "    }\n",
              "\n",
              "    .dataframe thead th {\n",
              "        text-align: right;\n",
              "    }\n",
              "</style>\n",
              "<table border=\"1\" class=\"dataframe\">\n",
              "  <thead>\n",
              "    <tr style=\"text-align: right;\">\n",
              "      <th></th>\n",
              "      <th>geo</th>\n",
              "      <th>time</th>\n",
              "      <th>cell_phones_total</th>\n",
              "      <th>population_total</th>\n",
              "      <th>country</th>\n",
              "    </tr>\n",
              "  </thead>\n",
              "  <tbody>\n",
              "    <tr>\n",
              "      <th>0</th>\n",
              "      <td>afg</td>\n",
              "      <td>1960</td>\n",
              "      <td>0.0</td>\n",
              "      <td>8996351</td>\n",
              "      <td>Afghanistan</td>\n",
              "    </tr>\n",
              "    <tr>\n",
              "      <th>1</th>\n",
              "      <td>afg</td>\n",
              "      <td>1965</td>\n",
              "      <td>0.0</td>\n",
              "      <td>9938414</td>\n",
              "      <td>Afghanistan</td>\n",
              "    </tr>\n",
              "    <tr>\n",
              "      <th>2</th>\n",
              "      <td>afg</td>\n",
              "      <td>1970</td>\n",
              "      <td>0.0</td>\n",
              "      <td>11126123</td>\n",
              "      <td>Afghanistan</td>\n",
              "    </tr>\n",
              "    <tr>\n",
              "      <th>3</th>\n",
              "      <td>afg</td>\n",
              "      <td>1975</td>\n",
              "      <td>0.0</td>\n",
              "      <td>12590286</td>\n",
              "      <td>Afghanistan</td>\n",
              "    </tr>\n",
              "    <tr>\n",
              "      <th>4</th>\n",
              "      <td>afg</td>\n",
              "      <td>1976</td>\n",
              "      <td>0.0</td>\n",
              "      <td>12840299</td>\n",
              "      <td>Afghanistan</td>\n",
              "    </tr>\n",
              "  </tbody>\n",
              "</table>\n",
              "</div>"
            ],
            "text/plain": [
              "   geo  time  cell_phones_total  population_total      country\n",
              "0  afg  1960                0.0           8996351  Afghanistan\n",
              "1  afg  1965                0.0           9938414  Afghanistan\n",
              "2  afg  1970                0.0          11126123  Afghanistan\n",
              "3  afg  1975                0.0          12590286  Afghanistan\n",
              "4  afg  1976                0.0          12840299  Afghanistan"
            ]
          },
          "metadata": {
            "tags": []
          },
          "execution_count": 5
        }
      ]
    },
    {
      "cell_type": "markdown",
      "metadata": {
        "id": "oK96Uj7vYjFX",
        "colab_type": "text"
      },
      "source": [
        "## Part 2. Answers"
      ]
    },
    {
      "cell_type": "markdown",
      "metadata": {
        "id": "AD2fBNrOYzCG",
        "colab_type": "text"
      },
      "source": [
        "Calculate the number of cell phones per person, and add this column onto your dataframe.\n",
        "\n",
        "(You've calculated correctly if you get 1.220 cell phones per person in the United States in 2017.)"
      ]
    },
    {
      "cell_type": "code",
      "metadata": {
        "id": "wXI9nQthYnFK",
        "colab_type": "code",
        "colab": {
          "base_uri": "https://localhost:8080/",
          "height": 221
        },
        "outputId": "4c2d0960-ef1f-419f-c501-cd29ff35bcf4"
      },
      "source": [
        "final['cellPhones_perPerson'] = final['cell_phones_total'] / final['population_total']\n",
        "\n",
        "print(final.shape)\n",
        "final.head()"
      ],
      "execution_count": 6,
      "outputs": [
        {
          "output_type": "stream",
          "text": [
            "(8590, 6)\n"
          ],
          "name": "stdout"
        },
        {
          "output_type": "execute_result",
          "data": {
            "text/html": [
              "<div>\n",
              "<style scoped>\n",
              "    .dataframe tbody tr th:only-of-type {\n",
              "        vertical-align: middle;\n",
              "    }\n",
              "\n",
              "    .dataframe tbody tr th {\n",
              "        vertical-align: top;\n",
              "    }\n",
              "\n",
              "    .dataframe thead th {\n",
              "        text-align: right;\n",
              "    }\n",
              "</style>\n",
              "<table border=\"1\" class=\"dataframe\">\n",
              "  <thead>\n",
              "    <tr style=\"text-align: right;\">\n",
              "      <th></th>\n",
              "      <th>geo</th>\n",
              "      <th>time</th>\n",
              "      <th>cell_phones_total</th>\n",
              "      <th>population_total</th>\n",
              "      <th>country</th>\n",
              "      <th>cellPhones_perPerson</th>\n",
              "    </tr>\n",
              "  </thead>\n",
              "  <tbody>\n",
              "    <tr>\n",
              "      <th>0</th>\n",
              "      <td>afg</td>\n",
              "      <td>1960</td>\n",
              "      <td>0.0</td>\n",
              "      <td>8996351</td>\n",
              "      <td>Afghanistan</td>\n",
              "      <td>0.0</td>\n",
              "    </tr>\n",
              "    <tr>\n",
              "      <th>1</th>\n",
              "      <td>afg</td>\n",
              "      <td>1965</td>\n",
              "      <td>0.0</td>\n",
              "      <td>9938414</td>\n",
              "      <td>Afghanistan</td>\n",
              "      <td>0.0</td>\n",
              "    </tr>\n",
              "    <tr>\n",
              "      <th>2</th>\n",
              "      <td>afg</td>\n",
              "      <td>1970</td>\n",
              "      <td>0.0</td>\n",
              "      <td>11126123</td>\n",
              "      <td>Afghanistan</td>\n",
              "      <td>0.0</td>\n",
              "    </tr>\n",
              "    <tr>\n",
              "      <th>3</th>\n",
              "      <td>afg</td>\n",
              "      <td>1975</td>\n",
              "      <td>0.0</td>\n",
              "      <td>12590286</td>\n",
              "      <td>Afghanistan</td>\n",
              "      <td>0.0</td>\n",
              "    </tr>\n",
              "    <tr>\n",
              "      <th>4</th>\n",
              "      <td>afg</td>\n",
              "      <td>1976</td>\n",
              "      <td>0.0</td>\n",
              "      <td>12840299</td>\n",
              "      <td>Afghanistan</td>\n",
              "      <td>0.0</td>\n",
              "    </tr>\n",
              "  </tbody>\n",
              "</table>\n",
              "</div>"
            ],
            "text/plain": [
              "   geo  time  ...      country  cellPhones_perPerson\n",
              "0  afg  1960  ...  Afghanistan                   0.0\n",
              "1  afg  1965  ...  Afghanistan                   0.0\n",
              "2  afg  1970  ...  Afghanistan                   0.0\n",
              "3  afg  1975  ...  Afghanistan                   0.0\n",
              "4  afg  1976  ...  Afghanistan                   0.0\n",
              "\n",
              "[5 rows x 6 columns]"
            ]
          },
          "metadata": {
            "tags": []
          },
          "execution_count": 6
        }
      ]
    },
    {
      "cell_type": "code",
      "metadata": {
        "id": "l_qYOrZo-eKQ",
        "colab_type": "code",
        "colab": {
          "base_uri": "https://localhost:8080/",
          "height": 80
        },
        "outputId": "38cafdbe-5ac1-4717-e077-f998a314d90e"
      },
      "source": [
        "final.loc[(final['time'] == 2017) & (final['country'] == 'United States')]"
      ],
      "execution_count": 7,
      "outputs": [
        {
          "output_type": "execute_result",
          "data": {
            "text/html": [
              "<div>\n",
              "<style scoped>\n",
              "    .dataframe tbody tr th:only-of-type {\n",
              "        vertical-align: middle;\n",
              "    }\n",
              "\n",
              "    .dataframe tbody tr th {\n",
              "        vertical-align: top;\n",
              "    }\n",
              "\n",
              "    .dataframe thead th {\n",
              "        text-align: right;\n",
              "    }\n",
              "</style>\n",
              "<table border=\"1\" class=\"dataframe\">\n",
              "  <thead>\n",
              "    <tr style=\"text-align: right;\">\n",
              "      <th></th>\n",
              "      <th>geo</th>\n",
              "      <th>time</th>\n",
              "      <th>cell_phones_total</th>\n",
              "      <th>population_total</th>\n",
              "      <th>country</th>\n",
              "      <th>cellPhones_perPerson</th>\n",
              "    </tr>\n",
              "  </thead>\n",
              "  <tbody>\n",
              "    <tr>\n",
              "      <th>8134</th>\n",
              "      <td>usa</td>\n",
              "      <td>2017</td>\n",
              "      <td>395881000.0</td>\n",
              "      <td>324459463</td>\n",
              "      <td>United States</td>\n",
              "      <td>1.220125</td>\n",
              "    </tr>\n",
              "  </tbody>\n",
              "</table>\n",
              "</div>"
            ],
            "text/plain": [
              "      geo  time  ...        country  cellPhones_perPerson\n",
              "8134  usa  2017  ...  United States              1.220125\n",
              "\n",
              "[1 rows x 6 columns]"
            ]
          },
          "metadata": {
            "tags": []
          },
          "execution_count": 7
        }
      ]
    },
    {
      "cell_type": "markdown",
      "metadata": {
        "id": "S3QFdsnRZMH6",
        "colab_type": "text"
      },
      "source": [
        "Modify the `geo` column to make the geo codes uppercase instead of lowercase."
      ]
    },
    {
      "cell_type": "code",
      "metadata": {
        "id": "93ADij8_YkOq",
        "colab_type": "code",
        "colab": {
          "base_uri": "https://localhost:8080/",
          "height": 221
        },
        "outputId": "dd2b07f4-d6a8-4259-afbd-0643cdb5eac0"
      },
      "source": [
        "final['geo'] = final['geo'].str.upper()\n",
        "\n",
        "print(final.shape)\n",
        "final.head()"
      ],
      "execution_count": 8,
      "outputs": [
        {
          "output_type": "stream",
          "text": [
            "(8590, 6)\n"
          ],
          "name": "stdout"
        },
        {
          "output_type": "execute_result",
          "data": {
            "text/html": [
              "<div>\n",
              "<style scoped>\n",
              "    .dataframe tbody tr th:only-of-type {\n",
              "        vertical-align: middle;\n",
              "    }\n",
              "\n",
              "    .dataframe tbody tr th {\n",
              "        vertical-align: top;\n",
              "    }\n",
              "\n",
              "    .dataframe thead th {\n",
              "        text-align: right;\n",
              "    }\n",
              "</style>\n",
              "<table border=\"1\" class=\"dataframe\">\n",
              "  <thead>\n",
              "    <tr style=\"text-align: right;\">\n",
              "      <th></th>\n",
              "      <th>geo</th>\n",
              "      <th>time</th>\n",
              "      <th>cell_phones_total</th>\n",
              "      <th>population_total</th>\n",
              "      <th>country</th>\n",
              "      <th>cellPhones_perPerson</th>\n",
              "    </tr>\n",
              "  </thead>\n",
              "  <tbody>\n",
              "    <tr>\n",
              "      <th>0</th>\n",
              "      <td>AFG</td>\n",
              "      <td>1960</td>\n",
              "      <td>0.0</td>\n",
              "      <td>8996351</td>\n",
              "      <td>Afghanistan</td>\n",
              "      <td>0.0</td>\n",
              "    </tr>\n",
              "    <tr>\n",
              "      <th>1</th>\n",
              "      <td>AFG</td>\n",
              "      <td>1965</td>\n",
              "      <td>0.0</td>\n",
              "      <td>9938414</td>\n",
              "      <td>Afghanistan</td>\n",
              "      <td>0.0</td>\n",
              "    </tr>\n",
              "    <tr>\n",
              "      <th>2</th>\n",
              "      <td>AFG</td>\n",
              "      <td>1970</td>\n",
              "      <td>0.0</td>\n",
              "      <td>11126123</td>\n",
              "      <td>Afghanistan</td>\n",
              "      <td>0.0</td>\n",
              "    </tr>\n",
              "    <tr>\n",
              "      <th>3</th>\n",
              "      <td>AFG</td>\n",
              "      <td>1975</td>\n",
              "      <td>0.0</td>\n",
              "      <td>12590286</td>\n",
              "      <td>Afghanistan</td>\n",
              "      <td>0.0</td>\n",
              "    </tr>\n",
              "    <tr>\n",
              "      <th>4</th>\n",
              "      <td>AFG</td>\n",
              "      <td>1976</td>\n",
              "      <td>0.0</td>\n",
              "      <td>12840299</td>\n",
              "      <td>Afghanistan</td>\n",
              "      <td>0.0</td>\n",
              "    </tr>\n",
              "  </tbody>\n",
              "</table>\n",
              "</div>"
            ],
            "text/plain": [
              "   geo  time  ...      country  cellPhones_perPerson\n",
              "0  AFG  1960  ...  Afghanistan                   0.0\n",
              "1  AFG  1965  ...  Afghanistan                   0.0\n",
              "2  AFG  1970  ...  Afghanistan                   0.0\n",
              "3  AFG  1975  ...  Afghanistan                   0.0\n",
              "4  AFG  1976  ...  Afghanistan                   0.0\n",
              "\n",
              "[5 rows x 6 columns]"
            ]
          },
          "metadata": {
            "tags": []
          },
          "execution_count": 8
        }
      ]
    },
    {
      "cell_type": "markdown",
      "metadata": {
        "id": "hlPDAFCfaF6C",
        "colab_type": "text"
      },
      "source": [
        "## Part 3. Answers"
      ]
    },
    {
      "cell_type": "markdown",
      "metadata": {
        "id": "k-pudNWve2SQ",
        "colab_type": "text"
      },
      "source": [
        "Use the describe function, to describe your dataframe's numeric columns, and then its non-numeric columns.\n",
        "\n",
        "(You'll see the time period ranges from 1960 to 2017, and there are 195 unique countries represented.)"
      ]
    },
    {
      "cell_type": "code",
      "metadata": {
        "id": "g26yemKre2Cu",
        "colab_type": "code",
        "colab": {
          "base_uri": "https://localhost:8080/",
          "height": 297
        },
        "outputId": "2c9e0f7e-911e-475d-ff49-d7b4912da925"
      },
      "source": [
        "final.describe()"
      ],
      "execution_count": 9,
      "outputs": [
        {
          "output_type": "execute_result",
          "data": {
            "text/html": [
              "<div>\n",
              "<style scoped>\n",
              "    .dataframe tbody tr th:only-of-type {\n",
              "        vertical-align: middle;\n",
              "    }\n",
              "\n",
              "    .dataframe tbody tr th {\n",
              "        vertical-align: top;\n",
              "    }\n",
              "\n",
              "    .dataframe thead th {\n",
              "        text-align: right;\n",
              "    }\n",
              "</style>\n",
              "<table border=\"1\" class=\"dataframe\">\n",
              "  <thead>\n",
              "    <tr style=\"text-align: right;\">\n",
              "      <th></th>\n",
              "      <th>time</th>\n",
              "      <th>cell_phones_total</th>\n",
              "      <th>population_total</th>\n",
              "      <th>cellPhones_perPerson</th>\n",
              "    </tr>\n",
              "  </thead>\n",
              "  <tbody>\n",
              "    <tr>\n",
              "      <th>count</th>\n",
              "      <td>8590.000000</td>\n",
              "      <td>8.590000e+03</td>\n",
              "      <td>8.590000e+03</td>\n",
              "      <td>8590.000000</td>\n",
              "    </tr>\n",
              "    <tr>\n",
              "      <th>mean</th>\n",
              "      <td>1994.193481</td>\n",
              "      <td>9.004950e+06</td>\n",
              "      <td>2.983823e+07</td>\n",
              "      <td>0.279639</td>\n",
              "    </tr>\n",
              "    <tr>\n",
              "      <th>std</th>\n",
              "      <td>14.257975</td>\n",
              "      <td>5.573408e+07</td>\n",
              "      <td>1.161284e+08</td>\n",
              "      <td>0.454247</td>\n",
              "    </tr>\n",
              "    <tr>\n",
              "      <th>min</th>\n",
              "      <td>1960.000000</td>\n",
              "      <td>0.000000e+00</td>\n",
              "      <td>4.433000e+03</td>\n",
              "      <td>0.000000</td>\n",
              "    </tr>\n",
              "    <tr>\n",
              "      <th>25%</th>\n",
              "      <td>1983.000000</td>\n",
              "      <td>0.000000e+00</td>\n",
              "      <td>1.456148e+06</td>\n",
              "      <td>0.000000</td>\n",
              "    </tr>\n",
              "    <tr>\n",
              "      <th>50%</th>\n",
              "      <td>1995.000000</td>\n",
              "      <td>6.200000e+03</td>\n",
              "      <td>5.725062e+06</td>\n",
              "      <td>0.001564</td>\n",
              "    </tr>\n",
              "    <tr>\n",
              "      <th>75%</th>\n",
              "      <td>2006.000000</td>\n",
              "      <td>1.697652e+06</td>\n",
              "      <td>1.810581e+07</td>\n",
              "      <td>0.461149</td>\n",
              "    </tr>\n",
              "    <tr>\n",
              "      <th>max</th>\n",
              "      <td>2017.000000</td>\n",
              "      <td>1.474097e+09</td>\n",
              "      <td>1.409517e+09</td>\n",
              "      <td>2.490243</td>\n",
              "    </tr>\n",
              "  </tbody>\n",
              "</table>\n",
              "</div>"
            ],
            "text/plain": [
              "              time  cell_phones_total  population_total  cellPhones_perPerson\n",
              "count  8590.000000       8.590000e+03      8.590000e+03           8590.000000\n",
              "mean   1994.193481       9.004950e+06      2.983823e+07              0.279639\n",
              "std      14.257975       5.573408e+07      1.161284e+08              0.454247\n",
              "min    1960.000000       0.000000e+00      4.433000e+03              0.000000\n",
              "25%    1983.000000       0.000000e+00      1.456148e+06              0.000000\n",
              "50%    1995.000000       6.200000e+03      5.725062e+06              0.001564\n",
              "75%    2006.000000       1.697652e+06      1.810581e+07              0.461149\n",
              "max    2017.000000       1.474097e+09      1.409517e+09              2.490243"
            ]
          },
          "metadata": {
            "tags": []
          },
          "execution_count": 9
        }
      ]
    },
    {
      "cell_type": "code",
      "metadata": {
        "id": "4jiEy5l7_AfG",
        "colab_type": "code",
        "colab": {
          "base_uri": "https://localhost:8080/",
          "height": 173
        },
        "outputId": "a79fa373-523b-4633-8ae3-98da8c1a3437"
      },
      "source": [
        "final.describe(exclude='number')"
      ],
      "execution_count": 10,
      "outputs": [
        {
          "output_type": "execute_result",
          "data": {
            "text/html": [
              "<div>\n",
              "<style scoped>\n",
              "    .dataframe tbody tr th:only-of-type {\n",
              "        vertical-align: middle;\n",
              "    }\n",
              "\n",
              "    .dataframe tbody tr th {\n",
              "        vertical-align: top;\n",
              "    }\n",
              "\n",
              "    .dataframe thead th {\n",
              "        text-align: right;\n",
              "    }\n",
              "</style>\n",
              "<table border=\"1\" class=\"dataframe\">\n",
              "  <thead>\n",
              "    <tr style=\"text-align: right;\">\n",
              "      <th></th>\n",
              "      <th>geo</th>\n",
              "      <th>country</th>\n",
              "    </tr>\n",
              "  </thead>\n",
              "  <tbody>\n",
              "    <tr>\n",
              "      <th>count</th>\n",
              "      <td>8590</td>\n",
              "      <td>8590</td>\n",
              "    </tr>\n",
              "    <tr>\n",
              "      <th>unique</th>\n",
              "      <td>195</td>\n",
              "      <td>195</td>\n",
              "    </tr>\n",
              "    <tr>\n",
              "      <th>top</th>\n",
              "      <td>JAM</td>\n",
              "      <td>Greece</td>\n",
              "    </tr>\n",
              "    <tr>\n",
              "      <th>freq</th>\n",
              "      <td>46</td>\n",
              "      <td>46</td>\n",
              "    </tr>\n",
              "  </tbody>\n",
              "</table>\n",
              "</div>"
            ],
            "text/plain": [
              "         geo country\n",
              "count   8590    8590\n",
              "unique   195     195\n",
              "top      JAM  Greece\n",
              "freq      46      46"
            ]
          },
          "metadata": {
            "tags": []
          },
          "execution_count": 10
        }
      ]
    },
    {
      "cell_type": "markdown",
      "metadata": {
        "id": "zALg-RrYaLcI",
        "colab_type": "text"
      },
      "source": [
        "In 2017, what were the top 5 countries with the most cell phones total?\n",
        "\n",
        "Your list of countries should have these totals:\n",
        "\n",
        "| country | cell phones total |\n",
        "|:-------:|:-----------------:|\n",
        "|    ?    |     1,474,097,000 |\n",
        "|    ?    |     1,168,902,277 |\n",
        "|    ?    |       458,923,202 |\n",
        "|    ?    |       395,881,000 |\n",
        "|    ?    |       236,488,548 |\n",
        "\n"
      ]
    },
    {
      "cell_type": "code",
      "metadata": {
        "id": "JdlWvezHaZxD",
        "colab_type": "code",
        "colab": {}
      },
      "source": [
        "# This optional code formats float numbers with comma separators\n",
        "pd.options.display.float_format = '{:,}'.format"
      ],
      "execution_count": 0,
      "outputs": []
    },
    {
      "cell_type": "code",
      "metadata": {
        "id": "smX8vzu4cyju",
        "colab_type": "code",
        "colab": {
          "base_uri": "https://localhost:8080/",
          "height": 425
        },
        "outputId": "d36259b1-572c-4bd8-8593-08284edce7bd"
      },
      "source": [
        "# Filter\n",
        "top_2017 = final.loc[final['time']==2017]\n",
        "print(top_2017['cell_phones_total'].head())\n",
        "\n",
        "# Sort\n",
        "top_2017_sorted = top_2017.sort_values(by=['time', 'cell_phones_total'], ascending=False)\n",
        "print(top_2017_sorted['cell_phones_total'].head())\n",
        "\n",
        "# Result\n",
        "result_columns = ['country', 'cell_phones_total']\n",
        "\n",
        "result = top_2017_sorted[result_columns]\n",
        "print(result.shape)\n",
        "result.head()"
      ],
      "execution_count": 12,
      "outputs": [
        {
          "output_type": "stream",
          "text": [
            "45    23,929,713.0\n",
            "91    13,323,952.0\n",
            "137    3,497,950.0\n",
            "183       80,337.0\n",
            "219   19,826,224.0\n",
            "Name: cell_phones_total, dtype: float64\n",
            "1496   1,474,097,000.0\n",
            "3595   1,168,902,277.0\n",
            "3549     458,923,202.0\n",
            "8134     395,881,000.0\n",
            "1084     236,488,548.0\n",
            "Name: cell_phones_total, dtype: float64\n",
            "(168, 2)\n"
          ],
          "name": "stdout"
        },
        {
          "output_type": "execute_result",
          "data": {
            "text/html": [
              "<div>\n",
              "<style scoped>\n",
              "    .dataframe tbody tr th:only-of-type {\n",
              "        vertical-align: middle;\n",
              "    }\n",
              "\n",
              "    .dataframe tbody tr th {\n",
              "        vertical-align: top;\n",
              "    }\n",
              "\n",
              "    .dataframe thead th {\n",
              "        text-align: right;\n",
              "    }\n",
              "</style>\n",
              "<table border=\"1\" class=\"dataframe\">\n",
              "  <thead>\n",
              "    <tr style=\"text-align: right;\">\n",
              "      <th></th>\n",
              "      <th>country</th>\n",
              "      <th>cell_phones_total</th>\n",
              "    </tr>\n",
              "  </thead>\n",
              "  <tbody>\n",
              "    <tr>\n",
              "      <th>1496</th>\n",
              "      <td>China</td>\n",
              "      <td>1,474,097,000.0</td>\n",
              "    </tr>\n",
              "    <tr>\n",
              "      <th>3595</th>\n",
              "      <td>India</td>\n",
              "      <td>1,168,902,277.0</td>\n",
              "    </tr>\n",
              "    <tr>\n",
              "      <th>3549</th>\n",
              "      <td>Indonesia</td>\n",
              "      <td>458,923,202.0</td>\n",
              "    </tr>\n",
              "    <tr>\n",
              "      <th>8134</th>\n",
              "      <td>United States</td>\n",
              "      <td>395,881,000.0</td>\n",
              "    </tr>\n",
              "    <tr>\n",
              "      <th>1084</th>\n",
              "      <td>Brazil</td>\n",
              "      <td>236,488,548.0</td>\n",
              "    </tr>\n",
              "  </tbody>\n",
              "</table>\n",
              "</div>"
            ],
            "text/plain": [
              "            country  cell_phones_total\n",
              "1496          China    1,474,097,000.0\n",
              "3595          India    1,168,902,277.0\n",
              "3549      Indonesia      458,923,202.0\n",
              "8134  United States      395,881,000.0\n",
              "1084         Brazil      236,488,548.0"
            ]
          },
          "metadata": {
            "tags": []
          },
          "execution_count": 12
        }
      ]
    },
    {
      "cell_type": "markdown",
      "metadata": {
        "id": "03V3Wln_h0dj",
        "colab_type": "text"
      },
      "source": [
        "2017 was the first year that China had more cell phones than people.\n",
        "\n"
      ]
    },
    {
      "cell_type": "code",
      "metadata": {
        "id": "oMFDVi1VS9vD",
        "colab_type": "code",
        "colab": {
          "base_uri": "https://localhost:8080/",
          "height": 884
        },
        "outputId": "ba9199cb-32c6-4c62-f6d5-107f7091f433"
      },
      "source": [
        "#print(final.head())\n",
        "\n",
        "china_filter = final.loc[final['country'] == 'China']\n",
        "#print(china_filter.head())\n",
        "\n",
        "china_filter_sorted = china_filter.sort_values(by=['cellPhones_perPerson'],ascending=False)\n",
        "#print(china_filter_sorted.head())\n",
        "\n",
        "china_morePhones_perPerson_years = china_filter_sorted[(china_filter_sorted['cellPhones_perPerson'] > 1.0 )]\n",
        "china_lessPhones_perPerson_years = china_filter_sorted[(china_filter_sorted['cellPhones_perPerson'] < 1.0 )]\n",
        "\n",
        "print(china_morePhones_perPerson_years, china_lessPhones_perPerson_years)\n",
        "\n",
        "# 2017 was the first year that china had more phones than people"
      ],
      "execution_count": 13,
      "outputs": [
        {
          "output_type": "stream",
          "text": [
            "      geo  time  ...  country  cellPhones_perPerson\n",
            "1496  CHN  2017  ...    China    1.0458168186766978\n",
            "\n",
            "[1 rows x 6 columns]       geo  time  ...  country   cellPhones_perPerson\n",
            "1495  CHN  2016  ...    China     0.9725213003418065\n",
            "1493  CHN  2014  ...    China     0.9251732891877361\n",
            "1494  CHN  2015  ...    China     0.9248087286588194\n",
            "1492  CHN  2013  ...    China     0.8888624772913624\n",
            "1491  CHN  2012  ...    China     0.8087231797896388\n",
            "1490  CHN  2011  ...    China     0.7212191838989495\n",
            "1489  CHN  2010  ...    China     0.6317336105130495\n",
            "1488  CHN  2009  ...    China     0.5526452439590929\n",
            "1487  CHN  2008  ...    China     0.4769694564014336\n",
            "1486  CHN  2007  ...    China      0.409414865975522\n",
            "1485  CHN  2006  ...    China     0.3468664200998914\n",
            "1484  CHN  2005  ...    China     0.2976687407394673\n",
            "1483  CHN  2004  ...    China      0.254811335251777\n",
            "1482  CHN  2003  ...    China     0.2066477270853984\n",
            "1481  CHN  2002  ...    China     0.1586305340101782\n",
            "1480  CHN  2001  ...    China    0.11218202529934891\n",
            "1479  CHN  2000  ...    China    0.06644332016569496\n",
            "1478  CHN  1999  ...    China    0.03394681871590201\n",
            "1477  CHN  1998  ...    China   0.018827693383494954\n",
            "1476  CHN  1997  ...    China   0.010510163695231672\n",
            "1475  CHN  1996  ...    China   0.005482481399497835\n",
            "1474  CHN  1995  ...    China   0.002926754510938418\n",
            "1473  CHN  1994  ...    China  0.0012758423868969712\n",
            "1472  CHN  1993  ...    China  0.0005241843143031562\n",
            "1471  CHN  1992  ...    China 0.00014696214842247426\n",
            "1470  CHN  1991  ...    China  3.998037234828082e-05\n",
            "1469  CHN  1990  ...    China 1.5624610856012716e-05\n",
            "1468  CHN  1989  ...    China  8.499731182239687e-06\n",
            "1467  CHN  1988  ...    China 2.8485266749172663e-06\n",
            "1466  CHN  1987  ...    China  6.298692690585337e-07\n",
            "1452  CHN  1965  ...    China                    0.0\n",
            "1458  CHN  1979  ...    China                    0.0\n",
            "1453  CHN  1970  ...    China                    0.0\n",
            "1454  CHN  1975  ...    China                    0.0\n",
            "1455  CHN  1976  ...    China                    0.0\n",
            "1456  CHN  1977  ...    China                    0.0\n",
            "1457  CHN  1978  ...    China                    0.0\n",
            "1463  CHN  1984  ...    China                    0.0\n",
            "1459  CHN  1980  ...    China                    0.0\n",
            "1460  CHN  1981  ...    China                    0.0\n",
            "1461  CHN  1982  ...    China                    0.0\n",
            "1462  CHN  1983  ...    China                    0.0\n",
            "1464  CHN  1985  ...    China                    0.0\n",
            "1465  CHN  1986  ...    China                    0.0\n",
            "1451  CHN  1960  ...    China                    0.0\n",
            "\n",
            "[45 rows x 6 columns]\n"
          ],
          "name": "stdout"
        }
      ]
    },
    {
      "cell_type": "markdown",
      "metadata": {
        "id": "bAjkksRfS8J8",
        "colab_type": "text"
      },
      "source": [
        "What was the first year that the USA had more cell phones than people?"
      ]
    },
    {
      "cell_type": "code",
      "metadata": {
        "id": "OvbqXrDXS527",
        "colab_type": "code",
        "colab": {
          "base_uri": "https://localhost:8080/",
          "height": 833
        },
        "outputId": "ef0a1220-f5e5-4e68-e5b6-be4b8209ecea"
      },
      "source": [
        "#print(final.head())\n",
        "\n",
        "usa_filter = final.loc[final['country'] == 'United States']\n",
        "#print(china_filter.head())\n",
        "\n",
        "usa_filter_sorted = usa_filter.sort_values(by=['cellPhones_perPerson'],ascending=False)\n",
        "#print(china_filter_sorted.head())\n",
        "\n",
        "usa_morePhones_perPerson_years = usa_filter_sorted[(usa_filter_sorted['cellPhones_perPerson'] > 1.0 )]\n",
        "usa_lessPhones_perPerson_years = usa_filter_sorted[(usa_filter_sorted['cellPhones_perPerson'] < 1.0 )]\n",
        "\n",
        "print(usa_morePhones_perPerson_years, usa_lessPhones_perPerson_years)\n",
        "\n",
        "# 2014 was the first year that the United States had more phones than people"
      ],
      "execution_count": 14,
      "outputs": [
        {
          "output_type": "stream",
          "text": [
            "      geo  time  ...        country  cellPhones_perPerson\n",
            "8133  USA  2016  ...  United States     1.228758722948959\n",
            "8134  USA  2017  ...  United States    1.2201246847283354\n",
            "8132  USA  2015  ...  United States    1.1949739048796058\n",
            "8131  USA  2014  ...  United States     1.118914031833164\n",
            "\n",
            "[4 rows x 6 columns]       geo  time  ...        country  cellPhones_perPerson\n",
            "8130  USA  2013  ...  United States    0.9846652501340288\n",
            "8129  USA  2012  ...  United States    0.9728807457559626\n",
            "8128  USA  2011  ...  United States    0.9561250192584747\n",
            "8127  USA  2010  ...  United States    0.9237840688710478\n",
            "8126  USA  2009  ...  United States    0.8961260458264333\n",
            "8125  USA  2008  ...  United States    0.8613129084629373\n",
            "8124  USA  2007  ...  United States    0.8293546295279024\n",
            "8123  USA  2006  ...  United States    0.7709164231374367\n",
            "8122  USA  2005  ...  United States    0.6902054837276331\n",
            "8121  USA  2004  ...  United States    0.6317748925952943\n",
            "8120  USA  2003  ...  United States    0.5538679308699229\n",
            "8119  USA  2002  ...  United States    0.4932056452902494\n",
            "8118  USA  2001  ...  United States   0.45111083515532086\n",
            "8117  USA  2000  ...  United States    0.3882436784845066\n",
            "8116  USA  1999  ...  United States   0.30856451408807795\n",
            "8115  USA  1998  ...  United States   0.25117466499363805\n",
            "8114  USA  1997  ...  United States   0.20325198065731348\n",
            "8113  USA  1996  ...  United States   0.16384832955104026\n",
            "8112  USA  1995  ...  United States   0.12717687036278622\n",
            "8111  USA  1994  ...  United States   0.09185612070227213\n",
            "8110  USA  1993  ...  United States   0.06157006979450434\n",
            "8109  USA  1992  ...  United States  0.042853252624010636\n",
            "8108  USA  1991  ...  United States   0.02963880131237587\n",
            "8107  USA  1990  ...  United States   0.02092050863669834\n",
            "8106  USA  1989  ...  United States   0.01402942420624947\n",
            "8105  USA  1988  ...  United States  0.008353291723887707\n",
            "8104  USA  1987  ...  United States  0.005015650510093476\n",
            "8103  USA  1986  ...  United States 0.0028047222831313516\n",
            "8102  USA  1985  ...  United States 0.0014127031793991398\n",
            "8101  USA  1984  ...  United States 0.0003839481811462992\n",
            "8097  USA  1977  ...  United States                   0.0\n",
            "8094  USA  1970  ...  United States                   0.0\n",
            "8095  USA  1975  ...  United States                   0.0\n",
            "8096  USA  1976  ...  United States                   0.0\n",
            "8093  USA  1965  ...  United States                   0.0\n",
            "8098  USA  1978  ...  United States                   0.0\n",
            "8099  USA  1979  ...  United States                   0.0\n",
            "8100  USA  1980  ...  United States                   0.0\n",
            "8092  USA  1960  ...  United States                   0.0\n",
            "\n",
            "[39 rows x 6 columns]\n"
          ],
          "name": "stdout"
        }
      ]
    },
    {
      "cell_type": "code",
      "metadata": {
        "id": "xkQnJyCtXU3N",
        "colab_type": "code",
        "colab": {
          "base_uri": "https://localhost:8080/",
          "height": 1000
        },
        "outputId": "6b992360-d8f8-4fd8-cf32-4d4fed61e435"
      },
      "source": [
        "\n",
        "final_sorted = final.sort_values(by=['time','cellPhones_perPerson'],ascending=False)\n",
        "#print(final_sorted.head())\n",
        "\n",
        "total_morePhones_perPerson_years = final_sorted[(final_sorted['cellPhones_perPerson'] > 1.0 )]\n",
        "total_lessPhones_perPerson_years = final_sorted[(final_sorted['cellPhones_perPerson'] < 1.0 )]\n",
        "\n",
        "print(total_morePhones_perPerson_years, total_lessPhones_perPerson_years)\n",
        "\n",
        "# In 2002 Luxembourge & Israel became the first country to have MORE cellphones than people"
      ],
      "execution_count": 15,
      "outputs": [
        {
          "output_type": "stream",
          "text": [
            "      geo  time  ...               country  cellPhones_perPerson\n",
            "3319  HKG  2017  ...      Hong Kong, China     2.490242818521353\n",
            "219   ARE  2017  ...  United Arab Emirates     2.109140231347495\n",
            "5056  MDV  2017  ...              Maldives    2.0629340178305413\n",
            "1860  CRI  2017  ...            Costa Rica    1.8020298142859967\n",
            "7393  SYC  2017  ...            Seychelles    1.7657515015252752\n",
            "7576  THA  2017  ...              Thailand    1.7603473056742354\n",
            "3549  IDN  2017  ...             Indonesia     1.738402230172827\n",
            "442   AUT  2017  ...               Austria    1.7084792282666967\n",
            "5335  MNE  2017  ...            Montenegro    1.6609545917069448\n",
            "8497  ZAF  2017  ...          South Africa     1.619937977849242\n",
            "810   BHR  2017  ...               Bahrain     1.584150037786818\n",
            "6636  RUS  2017  ...                Russia    1.5788753483112417\n",
            "6978  SLV  2017  ...           El Salvador     1.565132655142726\n",
            "4734  LTU  2017  ...             Lithuania     1.508955308053117\n",
            "6058  OMN  2017  ...                  Oman    1.4977389112177009\n",
            "7773  TTO  2017  ...   Trinidad and Tobago    1.4831640646398248\n",
            "6544  QAT  2017  ...                 Qatar     1.482946607906681\n",
            "6844  SGP  2017  ...             Singapore    1.4824016911304636\n",
            "8091  URY  2017  ...               Uruguay    1.4746710060027481\n",
            "2863  GEO  2017  ...               Georgia    1.4648608495624174\n",
            "6150  PAN  2017  ...                Panama     1.458463855958163\n",
            "4036  KAZ  2017  ...            Kazakhstan    1.4542009642781162\n",
            "2496  EST  2017  ...               Estonia    1.4541680410985682\n",
            "5519  MUS  2017  ...             Mauritius     1.453991580365146\n",
            "1267  BWA  2017  ...              Botswana    1.4140786966309589\n",
            "3853  ITA  2017  ...                 Italy     1.412932686881211\n",
            "7164  SUR  2017  ...              Suriname    1.4126165686312793\n",
            "265   ARG  2017  ...             Argentina    1.3981460024850105\n",
            "4261  KNA  2017  ...   St. Kitts and Nevis    1.3890685698798446\n",
            "4780  LUX  2017  ...            Luxembourg    1.3608590208327977\n",
            "...   ...   ...  ...                   ...                   ...\n",
            "2125  DMA  2006  ...              Dominica    1.0097871679353736\n",
            "3768  ISL  2006  ...               Iceland    1.0073199701062296\n",
            "3400  HRV  2006  ...               Croatia     1.005605739493843\n",
            "4722  LTU  2005  ...             Lithuania    1.3017700221155584\n",
            "3307  HKG  2005  ...      Hong Kong, China     1.251399250793928\n",
            "3841  ITA  2005  ...                 Italy    1.2158109910775967\n",
            "3795  ISR  2005  ...                Israel    1.1747743818312062\n",
            "1986  CZE  2005  ...        Czech Republic    1.1479504738464226\n",
            "4768  LUX  2005  ...            Luxembourg    1.1139213964642825\n",
            "2805  GBR  2005  ...        United Kingdom     1.086004149435546\n",
            "6426  PRT  2005  ...              Portugal    1.0834386818583073\n",
            "2484  EST  2005  ...               Estonia    1.0661322113114908\n",
            "430   AUT  2005  ...               Austria    1.0498385562751025\n",
            "4249  KNA  2005  ...   St. Kitts and Nevis    1.0491452551891547\n",
            "5873  NOR  2005  ...                Norway    1.0263556577160171\n",
            "3629  IRL  2005  ...               Ireland    1.0135350845732127\n",
            "7290  SWE  2005  ...                Sweden    1.0072330707896546\n",
            "2169  DNK  2005  ...               Denmark    1.0050729457281127\n",
            "2576  FIN  2005  ...               Finland    1.0021055625986062\n",
            "3306  HKG  2004  ...      Hong Kong, China    1.2074739985332072\n",
            "3794  ISR  2004  ...                Israel    1.1164241986993932\n",
            "3840  ITA  2004  ...                 Italy     1.072746688315578\n",
            "1985  CZE  2004  ...        Czech Republic    1.0530327741413283\n",
            "4767  LUX  2004  ...            Luxembourg    1.0402395649585343\n",
            "6425  PRT  2004  ...              Portugal    1.0040682854957719\n",
            "4766  LUX  2003  ...            Luxembourg     1.204948560544753\n",
            "3305  HKG  2003  ...      Hong Kong, China    1.0835422143019218\n",
            "3793  ISR  2003  ...                Israel    1.0423414749999174\n",
            "4765  LUX  2002  ...            Luxembourg     1.065973145589846\n",
            "3792  ISR  2002  ...                Israel     1.009732365166842\n",
            "\n",
            "[1044 rows x 6 columns]       geo  time  ...                         country  cellPhones_perPerson\n",
            "1952  CYP  2017  ...                          Cyprus     0.997668604409644\n",
            "6802  SEN  2017  ...                         Senegal    0.9941831102950449\n",
            "1038  BOL  2017  ...                         Bolivia     0.992003329834594\n",
            "4575  LCA  2017  ...                       St. Lucia    0.9879783498467939\n",
            "7064  SRB  2017  ...                          Serbia    0.9813810793242853\n",
            "901   BIH  2017  ...          Bosnia and Herzegovina    0.9809148344590288\n",
            "7863  TUR  2017  ...                          Turkey    0.9635290201178971\n",
            "1676  COG  2017  ...                     Congo, Rep.    0.9610796939599867\n",
            "672   BFA  2017  ...                    Burkina Faso    0.9350293241701749\n",
            "5473  MRT  2017  ...                      Mauritania    0.9217166072724574\n",
            "1221  BTN  2017  ...                          Bhutan     0.904673047634378\n",
            "4964  MDA  2017  ...                         Moldova    0.9041659631734899\n",
            "5321  MMR  2017  ...                         Myanmar    0.8984575761539465\n",
            "855   BHS  2017  ...                         Bahamas    0.8942207248565235\n",
            "3365  HND  2017  ...                        Honduras    0.8886604921475474\n",
            "5102  MEX  2017  ...                          Mexico    0.8851342698988217\n",
            "718   BGD  2017  ...                      Bangladesh    0.8812405928761015\n",
            "3595  IND  2017  ...                           India    0.8728491809526382\n",
            "3733  IRQ  2017  ...                            Iraq    0.8709509785309941\n",
            "4082  KEN  2017  ...                           Kenya    0.8614733980549081\n",
            "1358  CAN  2017  ...                          Canada     0.858956669605252\n",
            "7439  SYR  2017  ...                           Syria    0.8566017006800487\n",
            "8589  ZWE  2017  ...                        Zimbabwe    0.8525218295278666\n",
            "4918  MCO  2017  ...                          Monaco    0.8522548132833699\n",
            "7118  STP  2017  ...           Sao Tome and Principe    0.8498436330000441\n",
            "6506  PSE  2017  ...                       Palestine    0.8403972667436743\n",
            "2316  ECU  2017  ...                         Ecuador    0.8349883048625137\n",
            "3273  GUY  2017  ...                          Guyana    0.8268979339443266\n",
            "8363  VUT  2017  ...                         Vanuatu    0.8254152126381026\n",
            "1588  CMR  2017  ...                        Cameroon    0.8192504637638899\n",
            "...   ...   ...  ...                             ...                   ...\n",
            "7211  SVN  1960  ...                        Slovenia                   0.0\n",
            "7257  SWE  1960  ...                          Sweden                   0.0\n",
            "7303  SWZ  1960  ...                       Swaziland                   0.0\n",
            "7348  SYC  1960  ...                      Seychelles                   0.0\n",
            "7394  SYR  1960  ...                           Syria                   0.0\n",
            "7440  TCD  1960  ...                            Chad                   0.0\n",
            "7485  TGO  1960  ...                            Togo                   0.0\n",
            "7531  THA  1960  ...                        Thailand                   0.0\n",
            "7577  TJK  1960  ...                      Tajikistan                   0.0\n",
            "7622  TKM  1960  ...                    Turkmenistan                   0.0\n",
            "7683  TON  1960  ...                           Tonga                   0.0\n",
            "7728  TTO  1960  ...             Trinidad and Tobago                   0.0\n",
            "7774  TUN  1960  ...                         Tunisia                   0.0\n",
            "7818  TUR  1960  ...                          Turkey                   0.0\n",
            "7864  TUV  1960  ...                          Tuvalu                   0.0\n",
            "7908  TZA  1960  ...                        Tanzania                   0.0\n",
            "7954  UGA  1960  ...                          Uganda                   0.0\n",
            "8000  UKR  1960  ...                         Ukraine                   0.0\n",
            "8046  URY  1960  ...                         Uruguay                   0.0\n",
            "8092  USA  1960  ...                   United States                   0.0\n",
            "8135  UZB  1960  ...                      Uzbekistan                   0.0\n",
            "8181  VCT  1960  ...  St. Vincent and the Grenadines                   0.0\n",
            "8226  VEN  1960  ...                       Venezuela                   0.0\n",
            "8272  VNM  1960  ...                         Vietnam                   0.0\n",
            "8318  VUT  1960  ...                         Vanuatu                   0.0\n",
            "8364  WSM  1960  ...                           Samoa                   0.0\n",
            "8407  YEM  1960  ...                           Yemen                   0.0\n",
            "8452  ZAF  1960  ...                    South Africa                   0.0\n",
            "8498  ZMB  1960  ...                          Zambia                   0.0\n",
            "8544  ZWE  1960  ...                        Zimbabwe                   0.0\n",
            "\n",
            "[7546 rows x 6 columns]\n"
          ],
          "name": "stdout"
        }
      ]
    },
    {
      "cell_type": "markdown",
      "metadata": {
        "id": "6J7iwMnTg8KZ",
        "colab_type": "text"
      },
      "source": [
        "## Part 4. Reshape data"
      ]
    },
    {
      "cell_type": "markdown",
      "metadata": {
        "id": "LP9InazRkUxG",
        "colab_type": "text"
      },
      "source": [
        "Create a pivot table:\n",
        "- Columns: Years 2007—2017\n",
        "- Rows: China, India, United States, Indonesia, Brazil (order doesn't matter)\n",
        "- Values: Cell Phones Total\n",
        "\n",
        "The table's shape should be: (5, 11)"
      ]
    },
    {
      "cell_type": "code",
      "metadata": {
        "id": "JD7mXXjLj4Ue",
        "colab_type": "code",
        "colab": {
          "base_uri": "https://localhost:8080/",
          "height": 34
        },
        "outputId": "7c5079ef-3ea3-4166-ac0c-4b574a52777f"
      },
      "source": [
        "years_list = list(range(2007, 2018))\n",
        "years_list"
      ],
      "execution_count": 16,
      "outputs": [
        {
          "output_type": "execute_result",
          "data": {
            "text/plain": [
              "[2007, 2008, 2009, 2010, 2011, 2012, 2013, 2014, 2015, 2016, 2017]"
            ]
          },
          "metadata": {
            "tags": []
          },
          "execution_count": 16
        }
      ]
    },
    {
      "cell_type": "code",
      "metadata": {
        "id": "lAoKO9qFYoK8",
        "colab_type": "code",
        "colab": {
          "base_uri": "https://localhost:8080/",
          "height": 34
        },
        "outputId": "bbb3850e-77b2-4f1c-cd5f-bd4c769ce079"
      },
      "source": [
        "country_list = ['China', 'India', 'United States', 'Indonesia', 'Brazil']\n",
        "country_list"
      ],
      "execution_count": 17,
      "outputs": [
        {
          "output_type": "execute_result",
          "data": {
            "text/plain": [
              "['China', 'India', 'United States', 'Indonesia', 'Brazil']"
            ]
          },
          "metadata": {
            "tags": []
          },
          "execution_count": 17
        }
      ]
    },
    {
      "cell_type": "code",
      "metadata": {
        "id": "kKOYdVyzYym-",
        "colab_type": "code",
        "colab": {
          "base_uri": "https://localhost:8080/",
          "height": 289
        },
        "outputId": "e91e0de4-dfa7-4aeb-e5d4-e5c02c3be049"
      },
      "source": [
        "subset = final[final['time'].isin(years_list)]\n",
        "subset = subset[subset['country'].isin(country_list)]\n",
        "\n",
        "pivot_table_phoneTotals = pd.pivot(subset, values='cell_phones_total', index='country', columns='time') \n",
        "\n",
        "print(pivot_table_phoneTotals.shape)\n",
        "pivot_table_phoneTotals"
      ],
      "execution_count": 18,
      "outputs": [
        {
          "output_type": "stream",
          "text": [
            "(5, 11)\n"
          ],
          "name": "stdout"
        },
        {
          "output_type": "execute_result",
          "data": {
            "text/html": [
              "<div>\n",
              "<style scoped>\n",
              "    .dataframe tbody tr th:only-of-type {\n",
              "        vertical-align: middle;\n",
              "    }\n",
              "\n",
              "    .dataframe tbody tr th {\n",
              "        vertical-align: top;\n",
              "    }\n",
              "\n",
              "    .dataframe thead th {\n",
              "        text-align: right;\n",
              "    }\n",
              "</style>\n",
              "<table border=\"1\" class=\"dataframe\">\n",
              "  <thead>\n",
              "    <tr style=\"text-align: right;\">\n",
              "      <th>time</th>\n",
              "      <th>2007</th>\n",
              "      <th>2008</th>\n",
              "      <th>2009</th>\n",
              "      <th>2010</th>\n",
              "      <th>2011</th>\n",
              "      <th>2012</th>\n",
              "      <th>2013</th>\n",
              "      <th>2014</th>\n",
              "      <th>2015</th>\n",
              "      <th>2016</th>\n",
              "      <th>2017</th>\n",
              "    </tr>\n",
              "    <tr>\n",
              "      <th>country</th>\n",
              "      <th></th>\n",
              "      <th></th>\n",
              "      <th></th>\n",
              "      <th></th>\n",
              "      <th></th>\n",
              "      <th></th>\n",
              "      <th></th>\n",
              "      <th></th>\n",
              "      <th></th>\n",
              "      <th></th>\n",
              "      <th></th>\n",
              "    </tr>\n",
              "  </thead>\n",
              "  <tbody>\n",
              "    <tr>\n",
              "      <th>Brazil</th>\n",
              "      <td>120,980,103.0</td>\n",
              "      <td>150,641,403.0</td>\n",
              "      <td>169,385,584.0</td>\n",
              "      <td>196,929,978.0</td>\n",
              "      <td>234,357,507.0</td>\n",
              "      <td>248,323,703.0</td>\n",
              "      <td>271,099,799.0</td>\n",
              "      <td>280,728,796.0</td>\n",
              "      <td>257,814,274.0</td>\n",
              "      <td>244,067,356.0</td>\n",
              "      <td>236,488,548.0</td>\n",
              "    </tr>\n",
              "    <tr>\n",
              "      <th>China</th>\n",
              "      <td>547,306,000.0</td>\n",
              "      <td>641,245,000.0</td>\n",
              "      <td>747,214,000.0</td>\n",
              "      <td>859,003,000.0</td>\n",
              "      <td>986,253,000.0</td>\n",
              "      <td>1,112,155,000.0</td>\n",
              "      <td>1,229,113,000.0</td>\n",
              "      <td>1,286,093,000.0</td>\n",
              "      <td>1,291,984,200.0</td>\n",
              "      <td>1,364,934,000.0</td>\n",
              "      <td>1,474,097,000.0</td>\n",
              "    </tr>\n",
              "    <tr>\n",
              "      <th>India</th>\n",
              "      <td>233,620,000.0</td>\n",
              "      <td>346,890,000.0</td>\n",
              "      <td>525,090,000.0</td>\n",
              "      <td>752,190,000.0</td>\n",
              "      <td>893,862,478.0</td>\n",
              "      <td>864,720,917.0</td>\n",
              "      <td>886,304,245.0</td>\n",
              "      <td>944,008,677.0</td>\n",
              "      <td>1,001,056,000.0</td>\n",
              "      <td>1,127,809,000.0</td>\n",
              "      <td>1,168,902,277.0</td>\n",
              "    </tr>\n",
              "    <tr>\n",
              "      <th>Indonesia</th>\n",
              "      <td>93,386,881.0</td>\n",
              "      <td>140,578,243.0</td>\n",
              "      <td>163,676,961.0</td>\n",
              "      <td>211,290,235.0</td>\n",
              "      <td>249,805,619.0</td>\n",
              "      <td>281,963,665.0</td>\n",
              "      <td>313,226,914.0</td>\n",
              "      <td>325,582,819.0</td>\n",
              "      <td>338,948,340.0</td>\n",
              "      <td>385,573,398.0</td>\n",
              "      <td>458,923,202.0</td>\n",
              "    </tr>\n",
              "    <tr>\n",
              "      <th>United States</th>\n",
              "      <td>249,300,000.0</td>\n",
              "      <td>261,300,000.0</td>\n",
              "      <td>274,283,000.0</td>\n",
              "      <td>285,118,000.0</td>\n",
              "      <td>297,404,000.0</td>\n",
              "      <td>304,838,000.0</td>\n",
              "      <td>310,698,000.0</td>\n",
              "      <td>355,500,000.0</td>\n",
              "      <td>382,307,000.0</td>\n",
              "      <td>395,881,000.0</td>\n",
              "      <td>395,881,000.0</td>\n",
              "    </tr>\n",
              "  </tbody>\n",
              "</table>\n",
              "</div>"
            ],
            "text/plain": [
              "time                   2007          2008  ...            2016            2017\n",
              "country                                    ...                                \n",
              "Brazil        120,980,103.0 150,641,403.0  ...   244,067,356.0   236,488,548.0\n",
              "China         547,306,000.0 641,245,000.0  ... 1,364,934,000.0 1,474,097,000.0\n",
              "India         233,620,000.0 346,890,000.0  ... 1,127,809,000.0 1,168,902,277.0\n",
              "Indonesia      93,386,881.0 140,578,243.0  ...   385,573,398.0   458,923,202.0\n",
              "United States 249,300,000.0 261,300,000.0  ...   395,881,000.0   395,881,000.0\n",
              "\n",
              "[5 rows x 11 columns]"
            ]
          },
          "metadata": {
            "tags": []
          },
          "execution_count": 18
        }
      ]
    },
    {
      "cell_type": "code",
      "metadata": {
        "id": "V_A12VvkZ3OQ",
        "colab_type": "code",
        "colab": {
          "base_uri": "https://localhost:8080/",
          "height": 289
        },
        "outputId": "608b661f-bb92-4094-b80c-8218893960db"
      },
      "source": [
        "pivot_table_phonesPerPerson = pd.pivot(subset, values='cellPhones_perPerson', index='country', columns='time') \n",
        "\n",
        "print(pivot_table_phonesPerPerson.shape)\n",
        "pivot_table_phonesPerPerson"
      ],
      "execution_count": 19,
      "outputs": [
        {
          "output_type": "stream",
          "text": [
            "(5, 11)\n"
          ],
          "name": "stdout"
        },
        {
          "output_type": "execute_result",
          "data": {
            "text/html": [
              "<div>\n",
              "<style scoped>\n",
              "    .dataframe tbody tr th:only-of-type {\n",
              "        vertical-align: middle;\n",
              "    }\n",
              "\n",
              "    .dataframe tbody tr th {\n",
              "        vertical-align: top;\n",
              "    }\n",
              "\n",
              "    .dataframe thead th {\n",
              "        text-align: right;\n",
              "    }\n",
              "</style>\n",
              "<table border=\"1\" class=\"dataframe\">\n",
              "  <thead>\n",
              "    <tr style=\"text-align: right;\">\n",
              "      <th>time</th>\n",
              "      <th>2007</th>\n",
              "      <th>2008</th>\n",
              "      <th>2009</th>\n",
              "      <th>2010</th>\n",
              "      <th>2011</th>\n",
              "      <th>2012</th>\n",
              "      <th>2013</th>\n",
              "      <th>2014</th>\n",
              "      <th>2015</th>\n",
              "      <th>2016</th>\n",
              "      <th>2017</th>\n",
              "    </tr>\n",
              "    <tr>\n",
              "      <th>country</th>\n",
              "      <th></th>\n",
              "      <th></th>\n",
              "      <th></th>\n",
              "      <th></th>\n",
              "      <th></th>\n",
              "      <th></th>\n",
              "      <th></th>\n",
              "      <th></th>\n",
              "      <th></th>\n",
              "      <th></th>\n",
              "      <th></th>\n",
              "    </tr>\n",
              "  </thead>\n",
              "  <tbody>\n",
              "    <tr>\n",
              "      <th>Brazil</th>\n",
              "      <td>0.6333153580042348</td>\n",
              "      <td>0.7806102237150339</td>\n",
              "      <td>0.869107562373934</td>\n",
              "      <td>1.000679428531239</td>\n",
              "      <td>1.1795330092774006</td>\n",
              "      <td>1.2381456217733038</td>\n",
              "      <td>1.3393687626918995</td>\n",
              "      <td>1.3746853195773652</td>\n",
              "      <td>1.2517558521007175</td>\n",
              "      <td>1.1753623336716303</td>\n",
              "      <td>1.1299655683535224</td>\n",
              "    </tr>\n",
              "    <tr>\n",
              "      <th>China</th>\n",
              "      <td>0.409414865975522</td>\n",
              "      <td>0.4769694564014336</td>\n",
              "      <td>0.5526452439590929</td>\n",
              "      <td>0.6317336105130495</td>\n",
              "      <td>0.7212191838989495</td>\n",
              "      <td>0.8087231797896388</td>\n",
              "      <td>0.8888624772913624</td>\n",
              "      <td>0.9251732891877361</td>\n",
              "      <td>0.9248087286588194</td>\n",
              "      <td>0.9725213003418065</td>\n",
              "      <td>1.0458168186766978</td>\n",
              "    </tr>\n",
              "    <tr>\n",
              "      <th>India</th>\n",
              "      <td>0.19803654773558707</td>\n",
              "      <td>0.2897639364571018</td>\n",
              "      <td>0.43243260800225297</td>\n",
              "      <td>0.6110493897259677</td>\n",
              "      <td>0.7166746768185286</td>\n",
              "      <td>0.6846206123225949</td>\n",
              "      <td>0.6932038505029893</td>\n",
              "      <td>0.7296069065451255</td>\n",
              "      <td>0.7647171280133154</td>\n",
              "      <td>0.8517092569576913</td>\n",
              "      <td>0.8728491809526382</td>\n",
              "    </tr>\n",
              "    <tr>\n",
              "      <th>Indonesia</th>\n",
              "      <td>0.40082074468869777</td>\n",
              "      <td>0.5952687752989215</td>\n",
              "      <td>0.6838666086394296</td>\n",
              "      <td>0.8712132730812926</td>\n",
              "      <td>1.0166788063715317</td>\n",
              "      <td>1.1329154749967245</td>\n",
              "      <td>1.2428048309037323</td>\n",
              "      <td>1.2761392028716716</td>\n",
              "      <td>1.3129282839422685</td>\n",
              "      <td>1.4766395061654258</td>\n",
              "      <td>1.738402230172827</td>\n",
              "    </tr>\n",
              "    <tr>\n",
              "      <th>United States</th>\n",
              "      <td>0.8293546295279024</td>\n",
              "      <td>0.8613129084629373</td>\n",
              "      <td>0.8961260458264333</td>\n",
              "      <td>0.9237840688710478</td>\n",
              "      <td>0.9561250192584747</td>\n",
              "      <td>0.9728807457559626</td>\n",
              "      <td>0.9846652501340288</td>\n",
              "      <td>1.118914031833164</td>\n",
              "      <td>1.1949739048796058</td>\n",
              "      <td>1.228758722948959</td>\n",
              "      <td>1.2201246847283354</td>\n",
              "    </tr>\n",
              "  </tbody>\n",
              "</table>\n",
              "</div>"
            ],
            "text/plain": [
              "time                         2007  ...               2017\n",
              "country                            ...                   \n",
              "Brazil         0.6333153580042348  ... 1.1299655683535224\n",
              "China           0.409414865975522  ... 1.0458168186766978\n",
              "India         0.19803654773558707  ... 0.8728491809526382\n",
              "Indonesia     0.40082074468869777  ...  1.738402230172827\n",
              "United States  0.8293546295279024  ... 1.2201246847283354\n",
              "\n",
              "[5 rows x 11 columns]"
            ]
          },
          "metadata": {
            "tags": []
          },
          "execution_count": 19
        }
      ]
    },
    {
      "cell_type": "code",
      "metadata": {
        "id": "OTZgd-7yZS46",
        "colab_type": "code",
        "colab": {}
      },
      "source": [
        ""
      ],
      "execution_count": 0,
      "outputs": []
    },
    {
      "cell_type": "markdown",
      "metadata": {
        "id": "CNKTu2DCnAo6",
        "colab_type": "text"
      },
      "source": [
        "#### OPTIONAL BONUS QUESTION!\n",
        "\n",
        "Sort these 5 countries, by biggest increase in cell phones from 2007 to 2017.\n",
        "\n",
        "Which country had 935,282,277 more cell phones in 2017 versus 2007?"
      ]
    },
    {
      "cell_type": "code",
      "metadata": {
        "id": "O4Aecv1fmQlj",
        "colab_type": "code",
        "colab": {
          "base_uri": "https://localhost:8080/",
          "height": 272
        },
        "outputId": "c48cc62d-6e46-43eb-e4df-7ece9f825444"
      },
      "source": [
        "pivot_table_phoneTotals['increase'] = pivot_table_phoneTotals[2017] - pivot_table_phoneTotals[2007]\n",
        "\n",
        "pivot_table_phoneTotals.sort_values(by='increase',ascending=False)\n",
        "\n",
        "# INDIA"
      ],
      "execution_count": 20,
      "outputs": [
        {
          "output_type": "execute_result",
          "data": {
            "text/html": [
              "<div>\n",
              "<style scoped>\n",
              "    .dataframe tbody tr th:only-of-type {\n",
              "        vertical-align: middle;\n",
              "    }\n",
              "\n",
              "    .dataframe tbody tr th {\n",
              "        vertical-align: top;\n",
              "    }\n",
              "\n",
              "    .dataframe thead th {\n",
              "        text-align: right;\n",
              "    }\n",
              "</style>\n",
              "<table border=\"1\" class=\"dataframe\">\n",
              "  <thead>\n",
              "    <tr style=\"text-align: right;\">\n",
              "      <th>time</th>\n",
              "      <th>2007</th>\n",
              "      <th>2008</th>\n",
              "      <th>2009</th>\n",
              "      <th>2010</th>\n",
              "      <th>2011</th>\n",
              "      <th>2012</th>\n",
              "      <th>2013</th>\n",
              "      <th>2014</th>\n",
              "      <th>2015</th>\n",
              "      <th>2016</th>\n",
              "      <th>2017</th>\n",
              "      <th>increase</th>\n",
              "    </tr>\n",
              "    <tr>\n",
              "      <th>country</th>\n",
              "      <th></th>\n",
              "      <th></th>\n",
              "      <th></th>\n",
              "      <th></th>\n",
              "      <th></th>\n",
              "      <th></th>\n",
              "      <th></th>\n",
              "      <th></th>\n",
              "      <th></th>\n",
              "      <th></th>\n",
              "      <th></th>\n",
              "      <th></th>\n",
              "    </tr>\n",
              "  </thead>\n",
              "  <tbody>\n",
              "    <tr>\n",
              "      <th>India</th>\n",
              "      <td>233,620,000.0</td>\n",
              "      <td>346,890,000.0</td>\n",
              "      <td>525,090,000.0</td>\n",
              "      <td>752,190,000.0</td>\n",
              "      <td>893,862,478.0</td>\n",
              "      <td>864,720,917.0</td>\n",
              "      <td>886,304,245.0</td>\n",
              "      <td>944,008,677.0</td>\n",
              "      <td>1,001,056,000.0</td>\n",
              "      <td>1,127,809,000.0</td>\n",
              "      <td>1,168,902,277.0</td>\n",
              "      <td>935,282,277.0</td>\n",
              "    </tr>\n",
              "    <tr>\n",
              "      <th>China</th>\n",
              "      <td>547,306,000.0</td>\n",
              "      <td>641,245,000.0</td>\n",
              "      <td>747,214,000.0</td>\n",
              "      <td>859,003,000.0</td>\n",
              "      <td>986,253,000.0</td>\n",
              "      <td>1,112,155,000.0</td>\n",
              "      <td>1,229,113,000.0</td>\n",
              "      <td>1,286,093,000.0</td>\n",
              "      <td>1,291,984,200.0</td>\n",
              "      <td>1,364,934,000.0</td>\n",
              "      <td>1,474,097,000.0</td>\n",
              "      <td>926,791,000.0</td>\n",
              "    </tr>\n",
              "    <tr>\n",
              "      <th>Indonesia</th>\n",
              "      <td>93,386,881.0</td>\n",
              "      <td>140,578,243.0</td>\n",
              "      <td>163,676,961.0</td>\n",
              "      <td>211,290,235.0</td>\n",
              "      <td>249,805,619.0</td>\n",
              "      <td>281,963,665.0</td>\n",
              "      <td>313,226,914.0</td>\n",
              "      <td>325,582,819.0</td>\n",
              "      <td>338,948,340.0</td>\n",
              "      <td>385,573,398.0</td>\n",
              "      <td>458,923,202.0</td>\n",
              "      <td>365,536,321.0</td>\n",
              "    </tr>\n",
              "    <tr>\n",
              "      <th>United States</th>\n",
              "      <td>249,300,000.0</td>\n",
              "      <td>261,300,000.0</td>\n",
              "      <td>274,283,000.0</td>\n",
              "      <td>285,118,000.0</td>\n",
              "      <td>297,404,000.0</td>\n",
              "      <td>304,838,000.0</td>\n",
              "      <td>310,698,000.0</td>\n",
              "      <td>355,500,000.0</td>\n",
              "      <td>382,307,000.0</td>\n",
              "      <td>395,881,000.0</td>\n",
              "      <td>395,881,000.0</td>\n",
              "      <td>146,581,000.0</td>\n",
              "    </tr>\n",
              "    <tr>\n",
              "      <th>Brazil</th>\n",
              "      <td>120,980,103.0</td>\n",
              "      <td>150,641,403.0</td>\n",
              "      <td>169,385,584.0</td>\n",
              "      <td>196,929,978.0</td>\n",
              "      <td>234,357,507.0</td>\n",
              "      <td>248,323,703.0</td>\n",
              "      <td>271,099,799.0</td>\n",
              "      <td>280,728,796.0</td>\n",
              "      <td>257,814,274.0</td>\n",
              "      <td>244,067,356.0</td>\n",
              "      <td>236,488,548.0</td>\n",
              "      <td>115,508,445.0</td>\n",
              "    </tr>\n",
              "  </tbody>\n",
              "</table>\n",
              "</div>"
            ],
            "text/plain": [
              "time                   2007          2008  ...            2017      increase\n",
              "country                                    ...                              \n",
              "India         233,620,000.0 346,890,000.0  ... 1,168,902,277.0 935,282,277.0\n",
              "China         547,306,000.0 641,245,000.0  ... 1,474,097,000.0 926,791,000.0\n",
              "Indonesia      93,386,881.0 140,578,243.0  ...   458,923,202.0 365,536,321.0\n",
              "United States 249,300,000.0 261,300,000.0  ...   395,881,000.0 146,581,000.0\n",
              "Brazil        120,980,103.0 150,641,403.0  ...   236,488,548.0 115,508,445.0\n",
              "\n",
              "[5 rows x 12 columns]"
            ]
          },
          "metadata": {
            "tags": []
          },
          "execution_count": 20
        }
      ]
    },
    {
      "cell_type": "markdown",
      "metadata": {
        "id": "7iHkMsa3Rorh",
        "colab_type": "text"
      },
      "source": [
        "If you have the time and curiosity, what other questions can you ask and answer with this data?"
      ]
    }
  ]
}